{
 "cells": [
  {
   "cell_type": "code",
   "execution_count": 1,
   "id": "62a17bf7",
   "metadata": {},
   "outputs": [],
   "source": [
    "import pandas as pd\n",
    "import matplotlib.pyplot as plt\n",
    "import seaborn as sns"
   ]
  },
  {
   "cell_type": "code",
   "execution_count": 2,
   "id": "84a4bc88",
   "metadata": {},
   "outputs": [
    {
     "data": {
      "text/html": [
       "<div>\n",
       "<style scoped>\n",
       "    .dataframe tbody tr th:only-of-type {\n",
       "        vertical-align: middle;\n",
       "    }\n",
       "\n",
       "    .dataframe tbody tr th {\n",
       "        vertical-align: top;\n",
       "    }\n",
       "\n",
       "    .dataframe thead th {\n",
       "        text-align: right;\n",
       "    }\n",
       "</style>\n",
       "<table border=\"1\" class=\"dataframe\">\n",
       "  <thead>\n",
       "    <tr style=\"text-align: right;\">\n",
       "      <th></th>\n",
       "      <th>date</th>\n",
       "      <th>day_of_week</th>\n",
       "      <th>sales</th>\n",
       "      <th>direct_costs</th>\n",
       "      <th>overheads</th>\n",
       "    </tr>\n",
       "  </thead>\n",
       "  <tbody>\n",
       "    <tr>\n",
       "      <th>0</th>\n",
       "      <td>2024-02-05</td>\n",
       "      <td>Monday</td>\n",
       "      <td>1500</td>\n",
       "      <td>800</td>\n",
       "      <td>300</td>\n",
       "    </tr>\n",
       "    <tr>\n",
       "      <th>1</th>\n",
       "      <td>2024-02-06</td>\n",
       "      <td>Tuesday</td>\n",
       "      <td>1200</td>\n",
       "      <td>700</td>\n",
       "      <td>280</td>\n",
       "    </tr>\n",
       "    <tr>\n",
       "      <th>2</th>\n",
       "      <td>2024-02-07</td>\n",
       "      <td>Wednesday</td>\n",
       "      <td>1100</td>\n",
       "      <td>350</td>\n",
       "      <td>320</td>\n",
       "    </tr>\n",
       "    <tr>\n",
       "      <th>3</th>\n",
       "      <td>2024-02-08</td>\n",
       "      <td>Thursday</td>\n",
       "      <td>1300</td>\n",
       "      <td>1050</td>\n",
       "      <td>350</td>\n",
       "    </tr>\n",
       "    <tr>\n",
       "      <th>4</th>\n",
       "      <td>2024-02-09</td>\n",
       "      <td>Friday</td>\n",
       "      <td>2000</td>\n",
       "      <td>1200</td>\n",
       "      <td>380</td>\n",
       "    </tr>\n",
       "  </tbody>\n",
       "</table>\n",
       "</div>"
      ],
      "text/plain": [
       "         date day_of_week  sales  direct_costs  overheads\n",
       "0  2024-02-05      Monday   1500           800        300\n",
       "1  2024-02-06     Tuesday   1200           700        280\n",
       "2  2024-02-07   Wednesday   1100           350        320\n",
       "3  2024-02-08    Thursday   1300          1050        350\n",
       "4  2024-02-09      Friday   2000          1200        380"
      ]
     },
     "execution_count": 2,
     "metadata": {},
     "output_type": "execute_result"
    }
   ],
   "source": [
    "df = pd.read_csv(\"company_financials.csv\")\n",
    "df.head()"
   ]
  },
  {
   "cell_type": "code",
   "execution_count": 3,
   "id": "88ac6757",
   "metadata": {},
   "outputs": [
    {
     "name": "stdout",
     "output_type": "stream",
     "text": [
      "<class 'pandas.core.frame.DataFrame'>\n",
      "RangeIndex: 19 entries, 0 to 18\n",
      "Data columns (total 5 columns):\n",
      " #   Column        Non-Null Count  Dtype \n",
      "---  ------        --------------  ----- \n",
      " 0   date          19 non-null     object\n",
      " 1   day_of_week   19 non-null     object\n",
      " 2   sales         19 non-null     int64 \n",
      " 3   direct_costs  19 non-null     int64 \n",
      " 4   overheads     19 non-null     int64 \n",
      "dtypes: int64(3), object(2)\n",
      "memory usage: 888.0+ bytes\n"
     ]
    }
   ],
   "source": [
    "# Creating a copy of DataFrame\n",
    "df_copy = df.copy()\n",
    "df_copy.info()"
   ]
  },
  {
   "cell_type": "markdown",
   "id": "f4309be7",
   "metadata": {},
   "source": [
    "\n",
    "#### 1. Compare the sales of the first seven days (week one) to the sales of the next seven days (week two). Use a bar graph to visualize the comparison."
   ]
  },
  {
   "cell_type": "code",
   "execution_count": 4,
   "id": "5e5f457a",
   "metadata": {},
   "outputs": [],
   "source": [
    "# Converting the date column to datetime object\n",
    "df_copy['date'] = pd.to_datetime(df_copy['date'])"
   ]
  },
  {
   "cell_type": "code",
   "execution_count": 5,
   "id": "820e28bb",
   "metadata": {
    "scrolled": false
   },
   "outputs": [
    {
     "data": {
      "text/html": [
       "<div>\n",
       "<style scoped>\n",
       "    .dataframe tbody tr th:only-of-type {\n",
       "        vertical-align: middle;\n",
       "    }\n",
       "\n",
       "    .dataframe tbody tr th {\n",
       "        vertical-align: top;\n",
       "    }\n",
       "\n",
       "    .dataframe thead th {\n",
       "        text-align: right;\n",
       "    }\n",
       "</style>\n",
       "<table border=\"1\" class=\"dataframe\">\n",
       "  <thead>\n",
       "    <tr style=\"text-align: right;\">\n",
       "      <th></th>\n",
       "      <th>date</th>\n",
       "      <th>day_of_week</th>\n",
       "      <th>sales</th>\n",
       "      <th>direct_costs</th>\n",
       "      <th>overheads</th>\n",
       "      <th>number_week</th>\n",
       "    </tr>\n",
       "  </thead>\n",
       "  <tbody>\n",
       "    <tr>\n",
       "      <th>0</th>\n",
       "      <td>2024-02-05</td>\n",
       "      <td>Monday</td>\n",
       "      <td>1500</td>\n",
       "      <td>800</td>\n",
       "      <td>300</td>\n",
       "      <td>6</td>\n",
       "    </tr>\n",
       "    <tr>\n",
       "      <th>1</th>\n",
       "      <td>2024-02-06</td>\n",
       "      <td>Tuesday</td>\n",
       "      <td>1200</td>\n",
       "      <td>700</td>\n",
       "      <td>280</td>\n",
       "      <td>6</td>\n",
       "    </tr>\n",
       "    <tr>\n",
       "      <th>2</th>\n",
       "      <td>2024-02-07</td>\n",
       "      <td>Wednesday</td>\n",
       "      <td>1100</td>\n",
       "      <td>350</td>\n",
       "      <td>320</td>\n",
       "      <td>6</td>\n",
       "    </tr>\n",
       "    <tr>\n",
       "      <th>3</th>\n",
       "      <td>2024-02-08</td>\n",
       "      <td>Thursday</td>\n",
       "      <td>1300</td>\n",
       "      <td>1050</td>\n",
       "      <td>350</td>\n",
       "      <td>6</td>\n",
       "    </tr>\n",
       "    <tr>\n",
       "      <th>4</th>\n",
       "      <td>2024-02-09</td>\n",
       "      <td>Friday</td>\n",
       "      <td>2000</td>\n",
       "      <td>1200</td>\n",
       "      <td>380</td>\n",
       "      <td>6</td>\n",
       "    </tr>\n",
       "    <tr>\n",
       "      <th>5</th>\n",
       "      <td>2024-02-10</td>\n",
       "      <td>Saturday</td>\n",
       "      <td>1200</td>\n",
       "      <td>900</td>\n",
       "      <td>300</td>\n",
       "      <td>6</td>\n",
       "    </tr>\n",
       "    <tr>\n",
       "      <th>6</th>\n",
       "      <td>2024-02-11</td>\n",
       "      <td>Sunday</td>\n",
       "      <td>1200</td>\n",
       "      <td>600</td>\n",
       "      <td>250</td>\n",
       "      <td>6</td>\n",
       "    </tr>\n",
       "    <tr>\n",
       "      <th>7</th>\n",
       "      <td>2024-02-12</td>\n",
       "      <td>Monday</td>\n",
       "      <td>1400</td>\n",
       "      <td>850</td>\n",
       "      <td>310</td>\n",
       "      <td>7</td>\n",
       "    </tr>\n",
       "    <tr>\n",
       "      <th>8</th>\n",
       "      <td>2024-02-13</td>\n",
       "      <td>Tuesday</td>\n",
       "      <td>1300</td>\n",
       "      <td>750</td>\n",
       "      <td>290</td>\n",
       "      <td>7</td>\n",
       "    </tr>\n",
       "    <tr>\n",
       "      <th>9</th>\n",
       "      <td>2024-02-14</td>\n",
       "      <td>Wednesday</td>\n",
       "      <td>1900</td>\n",
       "      <td>1000</td>\n",
       "      <td>330</td>\n",
       "      <td>7</td>\n",
       "    </tr>\n",
       "    <tr>\n",
       "      <th>10</th>\n",
       "      <td>2024-02-15</td>\n",
       "      <td>Thursday</td>\n",
       "      <td>2200</td>\n",
       "      <td>1100</td>\n",
       "      <td>360</td>\n",
       "      <td>7</td>\n",
       "    </tr>\n",
       "    <tr>\n",
       "      <th>11</th>\n",
       "      <td>2024-02-16</td>\n",
       "      <td>Friday</td>\n",
       "      <td>2600</td>\n",
       "      <td>1250</td>\n",
       "      <td>390</td>\n",
       "      <td>7</td>\n",
       "    </tr>\n",
       "    <tr>\n",
       "      <th>12</th>\n",
       "      <td>2024-02-17</td>\n",
       "      <td>Saturday</td>\n",
       "      <td>2000</td>\n",
       "      <td>1000</td>\n",
       "      <td>320</td>\n",
       "      <td>7</td>\n",
       "    </tr>\n",
       "    <tr>\n",
       "      <th>13</th>\n",
       "      <td>2024-02-18</td>\n",
       "      <td>Sunday</td>\n",
       "      <td>1300</td>\n",
       "      <td>700</td>\n",
       "      <td>260</td>\n",
       "      <td>7</td>\n",
       "    </tr>\n",
       "    <tr>\n",
       "      <th>14</th>\n",
       "      <td>2024-02-19</td>\n",
       "      <td>Monday</td>\n",
       "      <td>1700</td>\n",
       "      <td>900</td>\n",
       "      <td>310</td>\n",
       "      <td>8</td>\n",
       "    </tr>\n",
       "    <tr>\n",
       "      <th>15</th>\n",
       "      <td>2024-02-20</td>\n",
       "      <td>Tuesday</td>\n",
       "      <td>1400</td>\n",
       "      <td>800</td>\n",
       "      <td>290</td>\n",
       "      <td>8</td>\n",
       "    </tr>\n",
       "    <tr>\n",
       "      <th>16</th>\n",
       "      <td>2024-02-21</td>\n",
       "      <td>Wednesday</td>\n",
       "      <td>2000</td>\n",
       "      <td>1050</td>\n",
       "      <td>340</td>\n",
       "      <td>8</td>\n",
       "    </tr>\n",
       "    <tr>\n",
       "      <th>17</th>\n",
       "      <td>2024-02-22</td>\n",
       "      <td>Thursday</td>\n",
       "      <td>2300</td>\n",
       "      <td>1150</td>\n",
       "      <td>370</td>\n",
       "      <td>8</td>\n",
       "    </tr>\n",
       "    <tr>\n",
       "      <th>18</th>\n",
       "      <td>2024-02-23</td>\n",
       "      <td>Friday</td>\n",
       "      <td>2700</td>\n",
       "      <td>1300</td>\n",
       "      <td>400</td>\n",
       "      <td>8</td>\n",
       "    </tr>\n",
       "  </tbody>\n",
       "</table>\n",
       "</div>"
      ],
      "text/plain": [
       "         date day_of_week  sales  direct_costs  overheads  number_week\n",
       "0  2024-02-05      Monday   1500           800        300            6\n",
       "1  2024-02-06     Tuesday   1200           700        280            6\n",
       "2  2024-02-07   Wednesday   1100           350        320            6\n",
       "3  2024-02-08    Thursday   1300          1050        350            6\n",
       "4  2024-02-09      Friday   2000          1200        380            6\n",
       "5  2024-02-10    Saturday   1200           900        300            6\n",
       "6  2024-02-11      Sunday   1200           600        250            6\n",
       "7  2024-02-12      Monday   1400           850        310            7\n",
       "8  2024-02-13     Tuesday   1300           750        290            7\n",
       "9  2024-02-14   Wednesday   1900          1000        330            7\n",
       "10 2024-02-15    Thursday   2200          1100        360            7\n",
       "11 2024-02-16      Friday   2600          1250        390            7\n",
       "12 2024-02-17    Saturday   2000          1000        320            7\n",
       "13 2024-02-18      Sunday   1300           700        260            7\n",
       "14 2024-02-19      Monday   1700           900        310            8\n",
       "15 2024-02-20     Tuesday   1400           800        290            8\n",
       "16 2024-02-21   Wednesday   2000          1050        340            8\n",
       "17 2024-02-22    Thursday   2300          1150        370            8\n",
       "18 2024-02-23      Friday   2700          1300        400            8"
      ]
     },
     "execution_count": 5,
     "metadata": {},
     "output_type": "execute_result"
    }
   ],
   "source": [
    "# Adding a week column to the DataFrame\n",
    "df_copy['number_week'] = df_copy['date'].dt.isocalendar().week\n",
    "df_copy"
   ]
  },
  {
   "cell_type": "code",
   "execution_count": 6,
   "id": "6d0c2ca7",
   "metadata": {},
   "outputs": [
    {
     "name": "stdout",
     "output_type": "stream",
     "text": [
      "Week 1 sales: $9500\n",
      "Week 2 sales: $12700\n"
     ]
    }
   ],
   "source": [
    "# Calculating weekly sales\n",
    "week_sales_1 = df_copy[df_copy[\"number_week\"] == 6][\"sales\"].sum()\n",
    "week_sales_2 = df_copy[df_copy[\"number_week\"] == 7][\"sales\"].sum()\n",
    "\n",
    "print(f\"Week 1 sales: ${week_sales_1}\")\n",
    "print(f\"Week 2 sales: ${week_sales_2}\")"
   ]
  },
  {
   "cell_type": "code",
   "execution_count": 7,
   "id": "555b1fc1",
   "metadata": {},
   "outputs": [
    {
     "data": {
      "image/png": "[encoded data removed]",
      "text/plain": [
       "<Figure size 432x288 with 1 Axes>"
      ]
     },
     "metadata": {
      "needs_background": "light"
     },
     "output_type": "display_data"
    }
   ],
   "source": [
    "plt.bar([\"week1\", \"week2\"],  [week_sales_1, week_sales_2])\n",
    "plt.xlabel('Weeks')\n",
    "plt.ylabel('Sales ($)')\n",
    "plt.title(\"Week-on-Week Sales Perfomance\")\n",
    "plt.show()"
   ]
  },
  {
   "cell_type": "markdown",
   "id": "39c72aef",
   "metadata": {},
   "source": [
    "\n",
    "#### 2. What percentage of total costs do direct costs represent on average? What is the mean cost variation change between the minimum cost and the maximum cost as a percentage of total costs?"
   ]
  },
  {
   "cell_type": "code",
   "execution_count": 8,
   "id": "3810ebdd",
   "metadata": {},
   "outputs": [
    {
     "name": "stdout",
     "output_type": "stream",
     "text": [
      "The percentage of directs cost to total costs 73.12%\n"
     ]
    }
   ],
   "source": [
    "# Calculating the total costs\n",
    "total_costs = df_copy[\"direct_costs\"] + df_copy[\"overheads\"]\n",
    "# Calculating the percentage of direct costs to total costs\n",
    "total_cost_pct = ((df_copy[\"direct_costs\"] / total_costs) * 100).mean()\n",
    "\n",
    "print(f\"The percentage of directs cost to total costs {total_cost_pct:.2f}%\")"
   ]
  },
  {
   "cell_type": "code",
   "execution_count": 9,
   "id": "9741fa60",
   "metadata": {},
   "outputs": [
    {
     "name": "stdout",
     "output_type": "stream",
     "text": [
      "The mean cost variation:82.92%\n"
     ]
    }
   ],
   "source": [
    "# Calculating cost variation\n",
    "cost_variation = (total_costs.max() - total_costs.min())/total_costs.mean() * 100\n",
    "print(f\"The mean cost variation:{cost_variation:.2f}%\")"
   ]
  },
  {
   "cell_type": "markdown",
   "id": "5365fe7a",
   "metadata": {},
   "source": [
    "#### 3. What is the difference between profit values for Fridays and Mondays? Visualize the difference using the bar chart. Visualize the daily profitability trend over time (whole period) using a line plot (use the date column)."
   ]
  },
  {
   "cell_type": "code",
   "execution_count": 10,
   "id": "6fd90439",
   "metadata": {},
   "outputs": [
    {
     "name": "stdout",
     "output_type": "stream",
     "text": [
      "The difference in profit between Fridays and Mondays is $1250\n"
     ]
    },
    {
     "data": {
      "image/png": "[encoded data removed]",
      "text/plain": [
       "<Figure size 432x288 with 1 Axes>"
      ]
     },
     "metadata": {
      "needs_background": "light"
     },
     "output_type": "display_data"
    }
   ],
   "source": [
    "# Adding the profit column\n",
    "df_copy[\"profit\"] = df_copy[\"sales\"] - df_copy[\"direct_costs\"] - df_copy[\"overheads\"]\n",
    "\n",
    "# Calculating profit for Mondays\n",
    "monday_profit = df_copy[df_copy[\"day_of_week\"]==\"Monday\"][\"profit\"].sum()\n",
    "# Calculating profit for Fridays\n",
    "friday_profit = df_copy[df_copy[\"day_of_week\"]==\"Friday\"][\"profit\"].sum()\n",
    "\n",
    "difference_profit = friday_profit - monday_profit\n",
    "print(f\"The difference in profit between Fridays and Mondays is ${difference_profit}\")\n",
    "\n",
    "# Plotting the data\n",
    "plt.bar([\"Mondays\", \"Fridays\"],  [monday_profit, friday_profit],\n",
    "       color=['blue', 'green'])\n",
    "plt.xlabel('Days')\n",
    "plt.ylabel('Profit ($)')\n",
    "plt.title(\"Mondays Vs Fridays Profit Perfomance\")\n",
    "plt.show()"
   ]
  },
  {
   "cell_type": "code",
   "execution_count": 11,
   "id": "a2d21d51",
   "metadata": {},
   "outputs": [
    {
     "data": {
      "image/png": "[encoded data removed]",
      "text/plain": [
       "<Figure size 576x432 with 1 Axes>"
      ]
     },
     "metadata": {
      "needs_background": "light"
     },
     "output_type": "display_data"
    }
   ],
   "source": [
    "# Visualizing daily profitability\n",
    "df_copy.set_index(\"date\")[\"profit\"].plot(figsize = (8, 6))\n",
    "plt.title('Daily Profitability')\n",
    "plt.xlabel('Date')\n",
    "plt.ylabel('Profit ($)')\n",
    "plt.xticks(rotation=45)\n",
    "plt.grid(True)\n",
    "plt.tight_layout()\n",
    "plt.show()\n",
    "plt.show()"
   ]
  },
  {
   "cell_type": "markdown",
   "id": "6e3cb21d",
   "metadata": {},
   "source": [
    "#### 4. What are the correlations between sales, direct costs, and overheads? Use a heatmap to visualize the correlations."
   ]
  },
  {
   "cell_type": "code",
   "execution_count": 12,
   "id": "a854598b",
   "metadata": {},
   "outputs": [
    {
     "data": {
      "text/html": [
       "<div>\n",
       "<style scoped>\n",
       "    .dataframe tbody tr th:only-of-type {\n",
       "        vertical-align: middle;\n",
       "    }\n",
       "\n",
       "    .dataframe tbody tr th {\n",
       "        vertical-align: top;\n",
       "    }\n",
       "\n",
       "    .dataframe thead th {\n",
       "        text-align: right;\n",
       "    }\n",
       "</style>\n",
       "<table border=\"1\" class=\"dataframe\">\n",
       "  <thead>\n",
       "    <tr style=\"text-align: right;\">\n",
       "      <th></th>\n",
       "      <th>sales</th>\n",
       "      <th>direct_costs</th>\n",
       "      <th>overheads</th>\n",
       "    </tr>\n",
       "  </thead>\n",
       "  <tbody>\n",
       "    <tr>\n",
       "      <th>sales</th>\n",
       "      <td>1.000000</td>\n",
       "      <td>0.858343</td>\n",
       "      <td>0.836533</td>\n",
       "    </tr>\n",
       "    <tr>\n",
       "      <th>direct_costs</th>\n",
       "      <td>0.858343</td>\n",
       "      <td>1.000000</td>\n",
       "      <td>0.822134</td>\n",
       "    </tr>\n",
       "    <tr>\n",
       "      <th>overheads</th>\n",
       "      <td>0.836533</td>\n",
       "      <td>0.822134</td>\n",
       "      <td>1.000000</td>\n",
       "    </tr>\n",
       "  </tbody>\n",
       "</table>\n",
       "</div>"
      ],
      "text/plain": [
       "                 sales  direct_costs  overheads\n",
       "sales         1.000000      0.858343   0.836533\n",
       "direct_costs  0.858343      1.000000   0.822134\n",
       "overheads     0.836533      0.822134   1.000000"
      ]
     },
     "execution_count": 12,
     "metadata": {},
     "output_type": "execute_result"
    }
   ],
   "source": [
    "correlation_matrix = df_copy[['sales', 'direct_costs', 'overheads']].corr()\n",
    "correlation_matrix"
   ]
  },
  {
   "cell_type": "code",
   "execution_count": 13,
   "id": "55b74a01",
   "metadata": {},
   "outputs": [
    {
     "data": {
      "image/png": "[encoded data removed]",
      "text/plain": [
       "<Figure size 576x432 with 2 Axes>"
      ]
     },
     "metadata": {
      "needs_background": "light"
     },
     "output_type": "display_data"
    }
   ],
   "source": [
    "plt.figure(figsize=(8, 6))\n",
    "sns.heatmap(correlation_matrix, annot=True,\n",
    "           fmt=\".1f\")\n",
    "plt.title(\"Sales and Costs Correlations\")\n",
    "plt.show()"
   ]
  },
  {
   "cell_type": "code",
   "execution_count": null,
   "id": "c8c579a9",
   "metadata": {},
   "outputs": [],
   "source": []
  }
 ],
 "metadata": {
  "kernelspec": {
   "display_name": "Python 3 (ipykernel)",
   "language": "python",
   "name": "python3"
  },
  "language_info": {
   "codemirror_mode": {
    "name": "ipython",
    "version": 3
   },
   "file_extension": ".py",
   "mimetype": "text/x-python",
   "name": "python",
   "nbconvert_exporter": "python",
   "pygments_lexer": "ipython3",
   "version": "3.10.5"
  }
 },
 "nbformat": 4,
 "nbformat_minor": 5
}
